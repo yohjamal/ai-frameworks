{
 "cells": [
  {
   "cell_type": "code",
   "execution_count": 1,
   "id": "b3c1ccad-2858-4ac5-be39-110f4b38b4e0",
   "metadata": {},
   "outputs": [],
   "source": [
    "# Iris Species Classification using Decision Tree\n",
    "# Import necessary libraries\n",
    "import pandas as pd\n",
    "import numpy as np\n",
    "from sklearn.datasets import load_iris\n",
    "from sklearn.model_selection import train_test_split\n",
    "from sklearn.tree import DecisionTreeClassifier\n",
    "from sklearn.metrics import accuracy_score, precision_score, recall_score, classification_report, confusion_matrix\n",
    "from sklearn.preprocessing import LabelEncoder\n",
    "import seaborn as sns\n",
    "import matplotlib.pyplot as plt"
   ]
  },
  {
   "cell_type": "code",
   "execution_count": 2,
   "id": "a05e4fc5-efa1-4749-8e51-de97b9892eb7",
   "metadata": {},
   "outputs": [
    {
     "name": "stdout",
     "output_type": "stream",
     "text": [
      "==================================================\n",
      "STEP 1: LOADING AND EXPLORING THE DATASET\n",
      "==================================================\n"
     ]
    }
   ],
   "source": [
    "# Step 1: Load and Explore the Dataset\n",
    "print(\"=\" * 50)\n",
    "print(\"STEP 1: LOADING AND EXPLORING THE DATASET\")\n",
    "print(\"=\" * 50)"
   ]
  },
  {
   "cell_type": "code",
   "execution_count": 3,
   "id": "18c1c025-9bb8-4be8-b8e3-118325e6fe9a",
   "metadata": {},
   "outputs": [],
   "source": [
    "# Load the Iris dataset\n",
    "iris = load_iris()\n",
    "X = pd.DataFrame(iris.data, columns=iris.feature_names)\n",
    "y = pd.Series(iris.target)"
   ]
  },
  {
   "cell_type": "code",
   "execution_count": 4,
   "id": "57e518df-9132-4b10-8dff-3b898ecfd758",
   "metadata": {},
   "outputs": [],
   "source": [
    "# Create a DataFrame for easier manipulation\n",
    "df = X.copy()\n",
    "df['species'] = y"
   ]
  },
  {
   "cell_type": "code",
   "execution_count": 6,
   "id": "4d01a9ad-4d35-4af9-9379-66fc5d3668e4",
   "metadata": {},
   "outputs": [
    {
     "name": "stdout",
     "output_type": "stream",
     "text": [
      "Dataset shape: (150, 5)\n",
      "\n",
      "First 5 rows of the dataset:\n",
      "   sepal length (cm)  sepal width (cm)  petal length (cm)  petal width (cm)  \\\n",
      "0                5.1               3.5                1.4               0.2   \n",
      "1                4.9               3.0                1.4               0.2   \n",
      "2                4.7               3.2                1.3               0.2   \n",
      "3                4.6               3.1                1.5               0.2   \n",
      "4                5.0               3.6                1.4               0.2   \n",
      "\n",
      "  species  \n",
      "0  setosa  \n",
      "1  setosa  \n",
      "2  setosa  \n",
      "3  setosa  \n",
      "4  setosa  \n",
      "\n",
      "Dataset information:\n",
      "<class 'pandas.core.frame.DataFrame'>\n",
      "RangeIndex: 150 entries, 0 to 149\n",
      "Data columns (total 5 columns):\n",
      " #   Column             Non-Null Count  Dtype  \n",
      "---  ------             --------------  -----  \n",
      " 0   sepal length (cm)  150 non-null    float64\n",
      " 1   sepal width (cm)   150 non-null    float64\n",
      " 2   petal length (cm)  150 non-null    float64\n",
      " 3   petal width (cm)   150 non-null    float64\n",
      " 4   species            150 non-null    object \n",
      "dtypes: float64(4), object(1)\n",
      "memory usage: 6.0+ KB\n",
      "None\n",
      "\n",
      "Basic statistics:\n",
      "       sepal length (cm)  sepal width (cm)  petal length (cm)  \\\n",
      "count         150.000000        150.000000         150.000000   \n",
      "mean            5.843333          3.057333           3.758000   \n",
      "std             0.828066          0.435866           1.765298   \n",
      "min             4.300000          2.000000           1.000000   \n",
      "25%             5.100000          2.800000           1.600000   \n",
      "50%             5.800000          3.000000           4.350000   \n",
      "75%             6.400000          3.300000           5.100000   \n",
      "max             7.900000          4.400000           6.900000   \n",
      "\n",
      "       petal width (cm)  \n",
      "count        150.000000  \n",
      "mean           1.199333  \n",
      "std            0.762238  \n",
      "min            0.100000  \n",
      "25%            0.300000  \n",
      "50%            1.300000  \n",
      "75%            1.800000  \n",
      "max            2.500000  \n",
      "\n",
      "Class distribution:\n",
      "species\n",
      "setosa        50\n",
      "versicolor    50\n",
      "virginica     50\n",
      "Name: count, dtype: int64\n"
     ]
    }
   ],
   "source": [
    "# Map target values to species names\n",
    "df['species'] = df['species'].map({0: 'setosa', 1: 'versicolor', 2: 'virginica'})\n",
    "\n",
    "print(\"Dataset shape:\", df.shape)\n",
    "print(\"\\nFirst 5 rows of the dataset:\")\n",
    "print(df.head())\n",
    "\n",
    "print(\"\\nDataset information:\")\n",
    "print(df.info())\n",
    "\n",
    "print(\"\\nBasic statistics:\")\n",
    "print(df.describe())\n",
    "\n",
    "print(\"\\nClass distribution:\")\n",
    "print(df['species'].value_counts())"
   ]
  },
  {
   "cell_type": "code",
   "execution_count": 7,
   "id": "1b92bc1c-b162-4963-ad2f-b2d24bd4235b",
   "metadata": {},
   "outputs": [
    {
     "name": "stdout",
     "output_type": "stream",
     "text": [
      "\n",
      "==================================================\n",
      "STEP 2: DATA PREPROCESSING\n",
      "==================================================\n"
     ]
    }
   ],
   "source": [
    "# Step 2: Data Preprocessing\n",
    "print(\"\\n\" + \"=\" * 50)\n",
    "print(\"STEP 2: DATA PREPROCESSING\")\n",
    "print(\"=\" * 50)"
   ]
  },
  {
   "cell_type": "code",
   "execution_count": 8,
   "id": "712218b5-068c-4e30-9ef9-ce5a790ee490",
   "metadata": {},
   "outputs": [
    {
     "name": "stdout",
     "output_type": "stream",
     "text": [
      "Missing values in each column:\n",
      "sepal length (cm)    0\n",
      "sepal width (cm)     0\n",
      "petal length (cm)    0\n",
      "petal width (cm)     0\n",
      "species              0\n",
      "dtype: int64\n"
     ]
    }
   ],
   "source": [
    "# Check for missing values\n",
    "print(\"Missing values in each column:\")\n",
    "print(df.isnull().sum())\n"
   ]
  },
  {
   "cell_type": "code",
   "execution_count": 9,
   "id": "13a11410-1fa4-4d20-951f-ea9b7939c029",
   "metadata": {},
   "outputs": [
    {
     "name": "stdout",
     "output_type": "stream",
     "text": [
      "\n",
      "Created 5 missing values for demonstration\n"
     ]
    }
   ],
   "source": [
    "# Since this is a clean dataset, we'll demonstrate handling missing values\n",
    "# Let's artificially create some missing values for demonstration\n",
    "np.random.seed(42)\n",
    "missing_indices = np.random.choice(df.index, size=5, replace=False)\n",
    "df_processed = df.copy()\n",
    "df_processed.loc[missing_indices, 'sepal length (cm)'] = np.nan\n",
    "\n",
    "print(f\"\\nCreated {df_processed['sepal length (cm)'].isnull().sum()} missing values for demonstration\")"
   ]
  },
  {
   "cell_type": "code",
   "execution_count": 10,
   "id": "7ac6b7d2-bc64-4441-9758-621b5dbb7f26",
   "metadata": {},
   "outputs": [
    {
     "name": "stdout",
     "output_type": "stream",
     "text": [
      "Missing values after handling: 0\n"
     ]
    },
    {
     "name": "stderr",
     "output_type": "stream",
     "text": [
      "C:\\Users\\Emily\\AppData\\Local\\Temp\\ipykernel_33244\\2670894040.py:2: FutureWarning: A value is trying to be set on a copy of a DataFrame or Series through chained assignment using an inplace method.\n",
      "The behavior will change in pandas 3.0. This inplace method will never work because the intermediate object on which we are setting values always behaves as a copy.\n",
      "\n",
      "For example, when doing 'df[col].method(value, inplace=True)', try using 'df.method({col: value}, inplace=True)' or df[col] = df[col].method(value) instead, to perform the operation inplace on the original object.\n",
      "\n",
      "\n",
      "  df_processed['sepal length (cm)'].fillna(df_processed['sepal length (cm)'].mean(), inplace=True)\n"
     ]
    }
   ],
   "source": [
    "# Handle missing values by filling with mean\n",
    "df_processed['sepal length (cm)'].fillna(df_processed['sepal length (cm)'].mean(), inplace=True)\n",
    "print(\"Missing values after handling:\", df_processed['sepal length (cm)'].isnull().sum())\n"
   ]
  },
  {
   "cell_type": "code",
   "execution_count": 11,
   "id": "bd2ad590-9e5c-4bbb-a94b-3ea0de59347d",
   "metadata": {},
   "outputs": [
    {
     "name": "stdout",
     "output_type": "stream",
     "text": [
      "Missing values after handling: 0\n"
     ]
    },
    {
     "name": "stderr",
     "output_type": "stream",
     "text": [
      "C:\\Users\\Emily\\AppData\\Local\\Temp\\ipykernel_33244\\2670894040.py:2: FutureWarning: A value is trying to be set on a copy of a DataFrame or Series through chained assignment using an inplace method.\n",
      "The behavior will change in pandas 3.0. This inplace method will never work because the intermediate object on which we are setting values always behaves as a copy.\n",
      "\n",
      "For example, when doing 'df[col].method(value, inplace=True)', try using 'df.method({col: value}, inplace=True)' or df[col] = df[col].method(value) instead, to perform the operation inplace on the original object.\n",
      "\n",
      "\n",
      "  df_processed['sepal length (cm)'].fillna(df_processed['sepal length (cm)'].mean(), inplace=True)\n"
     ]
    }
   ],
   "source": [
    "# Handle missing values by filling with mean\n",
    "df_processed['sepal length (cm)'].fillna(df_processed['sepal length (cm)'].mean(), inplace=True)\n",
    "print(\"Missing values after handling:\", df_processed['sepal length (cm)'].isnull().sum())\n"
   ]
  },
  {
   "cell_type": "code",
   "execution_count": 12,
   "id": "3705587e-677b-49e6-99ff-5ea02112f2f3",
   "metadata": {},
   "outputs": [
    {
     "name": "stdout",
     "output_type": "stream",
     "text": [
      "\n",
      "Label encoding for species:\n",
      "Original species: ['setosa' 'versicolor' 'virginica']\n",
      "Encoded species: [0 1 2]\n",
      "Label mapping:\n",
      "  0: setosa\n",
      "  1: versicolor\n",
      "  2: virginica\n"
     ]
    }
   ],
   "source": [
    "# Encode categorical labels (species)\n",
    "print(\"\\nLabel encoding for species:\")\n",
    "label_encoder = LabelEncoder()\n",
    "df_processed['species_encoded'] = label_encoder.fit_transform(df_processed['species'])\n",
    "\n",
    "print(\"Original species:\", df_processed['species'].unique())\n",
    "print(\"Encoded species:\", df_processed['species_encoded'].unique())\n",
    "print(\"Label mapping:\")\n",
    "for i, species in enumerate(label_encoder.classes_):\n",
    "    print(f\"  {i}: {species}\")\n"
   ]
  },
  {
   "cell_type": "code",
   "execution_count": 13,
   "id": "0e255933-6858-4fcf-a83f-16aa040c7c42",
   "metadata": {},
   "outputs": [
    {
     "name": "stdout",
     "output_type": "stream",
     "text": [
      "\n",
      "Final processed dataset shape: (150, 4)\n"
     ]
    }
   ],
   "source": [
    "# Prepare features and target\n",
    "X_processed = df_processed[iris.feature_names]\n",
    "y_processed = df_processed['species_encoded']\n",
    "\n",
    "print(f\"\\nFinal processed dataset shape: {X_processed.shape}\")\n"
   ]
  },
  {
   "cell_type": "code",
   "execution_count": 14,
   "id": "3111c0a8-f6fe-4e42-9265-6c2aa73b639f",
   "metadata": {},
   "outputs": [
    {
     "name": "stdout",
     "output_type": "stream",
     "text": [
      "\n",
      "==================================================\n",
      "STEP 3: DATA SPLITTING\n",
      "==================================================\n",
      "Training set size: 105 samples\n",
      "Test set size: 45 samples\n",
      "Training set class distribution:\n",
      "species_encoded\n",
      "0    35\n",
      "1    35\n",
      "2    35\n",
      "Name: count, dtype: int64\n",
      "Test set class distribution:\n",
      "species_encoded\n",
      "0    15\n",
      "1    15\n",
      "2    15\n",
      "Name: count, dtype: int64\n"
     ]
    }
   ],
   "source": [
    "# Step 3: Split the Data\n",
    "print(\"\\n\" + \"=\" * 50)\n",
    "print(\"STEP 3: DATA SPLITTING\")\n",
    "print(\"=\" * 50)\n",
    "\n",
    "X_train, X_test, y_train, y_test = train_test_split(\n",
    "    X_processed, y_processed, \n",
    "    test_size=0.3, \n",
    "    random_state=42, \n",
    "    stratify=y_processed\n",
    ")\n",
    "\n",
    "print(f\"Training set size: {X_train.shape[0]} samples\")\n",
    "print(f\"Test set size: {X_test.shape[0]} samples\")\n",
    "print(f\"Training set class distribution:\\n{pd.Series(y_train).value_counts().sort_index()}\")\n",
    "print(f\"Test set class distribution:\\n{pd.Series(y_test).value_counts().sort_index()}\")"
   ]
  },
  {
   "cell_type": "code",
   "execution_count": 15,
   "id": "1d5e9e14-eab5-461f-8cc6-cdf01d41f74b",
   "metadata": {},
   "outputs": [
    {
     "name": "stdout",
     "output_type": "stream",
     "text": [
      "\n",
      "==================================================\n",
      "STEP 4: TRAINING DECISION TREE CLASSIFIER\n",
      "==================================================\n",
      "Decision Tree classifier trained successfully!\n",
      "Model parameters: {'ccp_alpha': 0.0, 'class_weight': None, 'criterion': 'gini', 'max_depth': 3, 'max_features': None, 'max_leaf_nodes': None, 'min_impurity_decrease': 0.0, 'min_samples_leaf': 1, 'min_samples_split': 2, 'min_weight_fraction_leaf': 0.0, 'monotonic_cst': None, 'random_state': 42, 'splitter': 'best'}\n"
     ]
    }
   ],
   "source": [
    "# Step 4: Train Decision Tree Classifier\n",
    "print(\"\\n\" + \"=\" * 50)\n",
    "print(\"STEP 4: TRAINING DECISION TREE CLASSIFIER\")\n",
    "print(\"=\" * 50)\n",
    "\n",
    "# Initialize and train the model\n",
    "dt_classifier = DecisionTreeClassifier(\n",
    "    random_state=42,\n",
    "    max_depth=3  # Limiting depth to prevent overfitting\n",
    ")\n",
    "\n",
    "dt_classifier.fit(X_train, y_train)\n",
    "\n",
    "print(\"Decision Tree classifier trained successfully!\")\n",
    "print(f\"Model parameters: {dt_classifier.get_params()}\")"
   ]
  },
  {
   "cell_type": "code",
   "execution_count": 16,
   "id": "e341ee59-461e-4244-a767-4e78131982a2",
   "metadata": {},
   "outputs": [
    {
     "name": "stdout",
     "output_type": "stream",
     "text": [
      "\n",
      "==================================================\n",
      "STEP 5: MAKING PREDICTIONS\n",
      "==================================================\n",
      "First 10 predictions:\n",
      "Sample 1: True = virginica, Predicted = virginica\n",
      "Sample 2: True = versicolor, Predicted = versicolor\n",
      "Sample 3: True = virginica, Predicted = virginica\n",
      "Sample 4: True = versicolor, Predicted = versicolor\n",
      "Sample 5: True = virginica, Predicted = virginica\n",
      "Sample 6: True = virginica, Predicted = virginica\n",
      "Sample 7: True = versicolor, Predicted = versicolor\n",
      "Sample 8: True = versicolor, Predicted = versicolor\n",
      "Sample 9: True = setosa, Predicted = setosa\n",
      "Sample 10: True = virginica, Predicted = virginica\n"
     ]
    }
   ],
   "source": [
    "# Step 5: Make Predictions\n",
    "print(\"\\n\" + \"=\" * 50)\n",
    "print(\"STEP 5: MAKING PREDICTIONS\")\n",
    "print(\"=\" * 50)\n",
    "\n",
    "# Predict on test set\n",
    "y_pred = dt_classifier.predict(X_test)\n",
    "\n",
    "print(\"First 10 predictions:\")\n",
    "for i in range(10):\n",
    "    true_label = label_encoder.inverse_transform([y_test.iloc[i]])[0]\n",
    "    pred_label = label_encoder.inverse_transform([y_pred[i]])[0]\n",
    "    print(f\"Sample {i+1}: True = {true_label}, Predicted = {pred_label}\")"
   ]
  },
  {
   "cell_type": "code",
   "execution_count": 17,
   "id": "0a64be7b-d962-4d5f-9d04-cfa181f101ce",
   "metadata": {},
   "outputs": [
    {
     "name": "stdout",
     "output_type": "stream",
     "text": [
      "\n",
      "==================================================\n",
      "STEP 6: MODEL EVALUATION\n",
      "==================================================\n",
      "Accuracy: 0.9778\n",
      "Precision (weighted): 0.9792\n",
      "Recall (weighted): 0.9778\n",
      "\n",
      "Detailed Classification Report:\n",
      "              precision    recall  f1-score   support\n",
      "\n",
      "      setosa       1.00      1.00      1.00        15\n",
      "  versicolor       1.00      0.93      0.97        15\n",
      "   virginica       0.94      1.00      0.97        15\n",
      "\n",
      "    accuracy                           0.98        45\n",
      "   macro avg       0.98      0.98      0.98        45\n",
      "weighted avg       0.98      0.98      0.98        45\n",
      "\n",
      "\n",
      "Per-class metrics:\n",
      "setosa: Precision = 1.0000, Recall = 1.0000\n",
      "versicolor: Precision = 1.0000, Recall = 0.9333\n",
      "virginica: Precision = 0.9375, Recall = 1.0000\n"
     ]
    }
   ],
   "source": [
    "# Step 6: Model Evaluation\n",
    "print(\"\\n\" + \"=\" * 50)\n",
    "print(\"STEP 6: MODEL EVALUATION\")\n",
    "print(\"=\" * 50)\n",
    "\n",
    "# Calculate evaluation metrics\n",
    "accuracy = accuracy_score(y_test, y_pred)\n",
    "precision = precision_score(y_test, y_pred, average='weighted')\n",
    "recall = recall_score(y_test, y_pred, average='weighted')\n",
    "\n",
    "print(f\"Accuracy: {accuracy:.4f}\")\n",
    "print(f\"Precision (weighted): {precision:.4f}\")\n",
    "print(f\"Recall (weighted): {recall:.4f}\")\n",
    "\n",
    "# Detailed classification report\n",
    "print(\"\\nDetailed Classification Report:\")\n",
    "print(classification_report(y_test, y_pred, target_names=label_encoder.classes_))\n",
    "\n",
    "# Calculate per-class precision and recall\n",
    "precision_per_class = precision_score(y_test, y_pred, average=None)\n",
    "recall_per_class = recall_score(y_test, y_pred, average=None)\n",
    "\n",
    "print(\"\\nPer-class metrics:\")\n",
    "for i, species in enumerate(label_encoder.classes_):\n",
    "    print(f\"{species}: Precision = {precision_per_class[i]:.4f}, Recall = {recall_per_class[i]:.4f}\")"
   ]
  },
  {
   "cell_type": "code",
   "execution_count": 18,
   "id": "f4a0d16f-90fd-4100-b087-4a421676a10d",
   "metadata": {},
   "outputs": [
    {
     "name": "stdout",
     "output_type": "stream",
     "text": [
      "\n",
      "==================================================\n",
      "STEP 7: VISUALIZING RESULTS\n",
      "==================================================\n"
     ]
    },
    {
     "data": {
      "image/png": "[encoded data removed]",
      "text/plain": [
       "<Figure size 1500x500 with 4 Axes>"
      ]
     },
     "metadata": {},
     "output_type": "display_data"
    }
   ],
   "source": [
    "# Step 7: Visualize Results\n",
    "print(\"\\n\" + \"=\" * 50)\n",
    "print(\"STEP 7: VISUALIZING RESULTS\")\n",
    "print(\"=\" * 50)\n",
    "\n",
    "# Create confusion matrix\n",
    "cm = confusion_matrix(y_test, y_pred)\n",
    "\n",
    "plt.figure(figsize=(15, 5))\n",
    "\n",
    "# Plot 1: Confusion Matrix\n",
    "plt.subplot(1, 3, 1)\n",
    "sns.heatmap(cm, annot=True, fmt='d', cmap='Blues', \n",
    "            xticklabels=label_encoder.classes_, \n",
    "            yticklabels=label_encoder.classes_)\n",
    "plt.title('Confusion Matrix')\n",
    "plt.xlabel('Predicted Label')\n",
    "plt.ylabel('True Label')\n",
    "\n",
    "# Plot 2: Feature Importance\n",
    "plt.subplot(1, 3, 2)\n",
    "feature_importance = pd.DataFrame({\n",
    "    'feature': iris.feature_names,\n",
    "    'importance': dt_classifier.feature_importances_\n",
    "}).sort_values('importance', ascending=True)\n",
    "\n",
    "plt.barh(feature_importance['feature'], feature_importance['importance'])\n",
    "plt.title('Feature Importance')\n",
    "plt.xlabel('Importance Score')\n",
    "\n",
    "# Plot 3: Metrics Comparison\n",
    "plt.subplot(1, 3, 3)\n",
    "metrics = ['Accuracy', 'Precision', 'Recall']\n",
    "scores = [accuracy, precision, recall]\n",
    "colors = ['skyblue', 'lightcoral', 'lightgreen']\n",
    "\n",
    "plt.bar(metrics, scores, color=colors)\n",
    "plt.ylim(0, 1)\n",
    "plt.title('Model Performance Metrics')\n",
    "plt.ylabel('Score')\n",
    "\n",
    "for i, v in enumerate(scores):\n",
    "    plt.text(i, v + 0.01, f'{v:.3f}', ha='center', va='bottom')\n",
    "\n",
    "plt.tight_layout()\n",
    "plt.show()\n"
   ]
  },
  {
   "cell_type": "code",
   "execution_count": 19,
   "id": "5c8bf14c-1cab-4058-83a6-3da58a79d392",
   "metadata": {},
   "outputs": [
    {
     "name": "stdout",
     "output_type": "stream",
     "text": [
      "\n",
      "==================================================\n",
      "STEP 8: ADDITIONAL ANALYSIS\n",
      "==================================================\n",
      "Training Accuracy: 0.9810\n",
      "Test Accuracy: 0.9778\n",
      "Model generalization appears good (similar train and test accuracy)\n",
      "\n",
      "Tree depth: 3\n",
      "Number of leaves: 5\n"
     ]
    }
   ],
   "source": [
    "# Step 8: Additional Analysis\n",
    "print(\"\\n\" + \"=\" * 50)\n",
    "print(\"STEP 8: ADDITIONAL ANALYSIS\")\n",
    "print(\"=\" * 50)\n",
    "\n",
    "# Check for overfitting by comparing train and test performance\n",
    "y_train_pred = dt_classifier.predict(X_train)\n",
    "train_accuracy = accuracy_score(y_train, y_train_pred)\n",
    "\n",
    "print(f\"Training Accuracy: {train_accuracy:.4f}\")\n",
    "print(f\"Test Accuracy: {accuracy:.4f}\")\n",
    "\n",
    "if train_accuracy - accuracy > 0.1:\n",
    "    print(\"Warning: Model might be overfitting (large gap between train and test accuracy)\")\n",
    "else:\n",
    "    print(\"Model generalization appears good (similar train and test accuracy)\")\n",
    "    # Display tree depth and number of leaves\n",
    "print(f\"\\nTree depth: {dt_classifier.get_depth()}\")\n",
    "print(f\"Number of leaves: {dt_classifier.get_n_leaves()}\")\n"
   ]
  },
  {
   "cell_type": "code",
   "execution_count": 20,
   "id": "7ce4f625-2801-4437-862e-8e1637357e09",
   "metadata": {},
   "outputs": [
    {
     "name": "stdout",
     "output_type": "stream",
     "text": [
      "\n",
      "==================================================\n",
      "STEP 9: PREDICTION ON NEW DATA\n",
      "==================================================\n",
      "Predictions for new samples:\n",
      "\n",
      "Sample 1: [5.1 3.5 1.4 0.2]\n",
      "Predicted species: setosa\n",
      "Prediction probabilities:\n",
      "  setosa: 1.0000\n",
      "  versicolor: 0.0000\n",
      "  virginica: 0.0000\n",
      "\n",
      "Sample 2: [6.7 3.  5.2 2.3]\n",
      "Predicted species: virginica\n",
      "Prediction probabilities:\n",
      "  setosa: 0.0000\n",
      "  versicolor: 0.0294\n",
      "  virginica: 0.9706\n",
      "\n",
      "Sample 3: [5.9 2.8 4.1 1.3]\n",
      "Predicted species: versicolor\n",
      "Prediction probabilities:\n",
      "  setosa: 0.0000\n",
      "  versicolor: 1.0000\n",
      "  virginica: 0.0000\n",
      "\n",
      "==================================================\n",
      "SUMMARY\n",
      "==================================================\n",
      "✅ Data preprocessing completed (handled missing values, encoded labels)\n",
      "✅ Decision Tree model trained successfully\n",
      "✅ Model achieved 97.78% accuracy on test set\n",
      "✅ Comprehensive evaluation metrics calculated\n",
      "✅ Visualizations created for better understanding\n",
      "✅ Model is ready for iris species classification!\n"
     ]
    },
    {
     "name": "stderr",
     "output_type": "stream",
     "text": [
      "C:\\Users\\Emily\\AppData\\Roaming\\Python\\Python313\\site-packages\\sklearn\\utils\\validation.py:2749: UserWarning: X does not have valid feature names, but DecisionTreeClassifier was fitted with feature names\n",
      "  warnings.warn(\n",
      "C:\\Users\\Emily\\AppData\\Roaming\\Python\\Python313\\site-packages\\sklearn\\utils\\validation.py:2749: UserWarning: X does not have valid feature names, but DecisionTreeClassifier was fitted with feature names\n",
      "  warnings.warn(\n"
     ]
    }
   ],
   "source": [
    "# Step 9: Make Predictions on New Data\n",
    "print(\"\\n\" + \"=\" * 50)\n",
    "print(\"STEP 9: PREDICTION ON NEW DATA\")\n",
    "print(\"=\" * 50)\n",
    "\n",
    "# Example: Predict on new sample data\n",
    "new_samples = np.array([\n",
    "    [5.1, 3.5, 1.4, 0.2],  # Likely setosa\n",
    "    [6.7, 3.0, 5.2, 2.3],  # Likely virginica\n",
    "    [5.9, 2.8, 4.1, 1.3]   # Likely versicolor\n",
    "])\n",
    "\n",
    "new_predictions = dt_classifier.predict(new_samples)\n",
    "new_probabilities = dt_classifier.predict_proba(new_samples)\n",
    "\n",
    "print(\"Predictions for new samples:\")\n",
    "for i, (sample, pred, prob) in enumerate(zip(new_samples, new_predictions, new_probabilities)):\n",
    "    species_name = label_encoder.inverse_transform([pred])[0]\n",
    "    print(f\"\\nSample {i+1}: {sample}\")\n",
    "    print(f\"Predicted species: {species_name}\")\n",
    "    print(f\"Prediction probabilities:\")\n",
    "    for j, class_name in enumerate(label_encoder.classes_):\n",
    "        print(f\"  {class_name}: {prob[j]:.4f}\")\n",
    "\n",
    "print(\"\\n\" + \"=\" * 50)\n",
    "print(\"SUMMARY\")\n",
    "print(\"=\" * 50)\n",
    "print(\"✅ Data preprocessing completed (handled missing values, encoded labels)\")\n",
    "print(\"✅ Decision Tree model trained successfully\")\n",
    "print(f\"✅ Model achieved {accuracy:.2%} accuracy on test set\")\n",
    "print(\"✅ Comprehensive evaluation metrics calculated\")\n",
    "print(\"✅ Visualizations created for better understanding\")\n",
    "print(\"✅ Model is ready for iris species classification!\")\n"
   ]
  },
  {
   "cell_type": "code",
   "execution_count": null,
   "id": "9038c76d-fb26-4e47-8cde-cb8ce720681c",
   "metadata": {},
   "outputs": [],
   "source": []
  }
 ],
 "metadata": {
  "kernelspec": {
   "display_name": "Python 3 (ipykernel)",
   "language": "python",
   "name": "python3"
  },
  "language_info": {
   "codemirror_mode": {
    "name": "ipython",
    "version": 3
   },
   "file_extension": ".py",
   "mimetype": "text/x-python",
   "name": "python",
   "nbconvert_exporter": "python",
   "pygments_lexer": "ipython3",
   "version": "3.13.5"
  }
 },
 "nbformat": 4,
 "nbformat_minor": 5
}
