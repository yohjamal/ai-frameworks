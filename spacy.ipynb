{
 "cells": [
  {
   "cell_type": "code",
   "execution_count": 1,
   "id": "ffcb68a4-9c04-4fbb-89cd-769adf00ef4e",
   "metadata": {},
   "outputs": [
    {
     "name": "stdout",
     "output_type": "stream",
     "text": [
      "Defaulting to user installation because normal site-packages is not writeable\n",
      "Collecting kagglehub\n",
      "  Downloading kagglehub-0.3.13-py3-none-any.whl.metadata (38 kB)\n",
      "Requirement already satisfied: spacy in c:\\users\\emily\\appdata\\roaming\\python\\python313\\site-packages (3.8.7)\n",
      "Requirement already satisfied: pandas in c:\\users\\emily\\appdata\\roaming\\python\\python313\\site-packages (2.3.1)\n",
      "Requirement already satisfied: packaging in c:\\users\\emily\\appdata\\roaming\\python\\python313\\site-packages (from kagglehub) (25.0)\n",
      "Requirement already satisfied: pyyaml in c:\\users\\emily\\appdata\\roaming\\python\\python313\\site-packages (from kagglehub) (6.0.3)\n",
      "Requirement already satisfied: requests in c:\\users\\emily\\appdata\\roaming\\python\\python313\\site-packages (from kagglehub) (2.32.5)\n",
      "Requirement already satisfied: tqdm in c:\\users\\emily\\appdata\\roaming\\python\\python313\\site-packages (from kagglehub) (4.67.1)\n",
      "Requirement already satisfied: spacy-legacy<3.1.0,>=3.0.11 in c:\\users\\emily\\appdata\\roaming\\python\\python313\\site-packages (from spacy) (3.0.12)\n",
      "Requirement already satisfied: spacy-loggers<2.0.0,>=1.0.0 in c:\\users\\emily\\appdata\\roaming\\python\\python313\\site-packages (from spacy) (1.0.5)\n",
      "Requirement already satisfied: murmurhash<1.1.0,>=0.28.0 in c:\\users\\emily\\appdata\\roaming\\python\\python313\\site-packages (from spacy) (1.0.13)\n",
      "Requirement already satisfied: cymem<2.1.0,>=2.0.2 in c:\\users\\emily\\appdata\\roaming\\python\\python313\\site-packages (from spacy) (2.0.11)\n",
      "Requirement already satisfied: preshed<3.1.0,>=3.0.2 in c:\\users\\emily\\appdata\\roaming\\python\\python313\\site-packages (from spacy) (3.0.10)\n",
      "Requirement already satisfied: thinc<8.4.0,>=8.3.4 in c:\\users\\emily\\appdata\\roaming\\python\\python313\\site-packages (from spacy) (8.3.6)\n",
      "Requirement already satisfied: wasabi<1.2.0,>=0.9.1 in c:\\users\\emily\\appdata\\roaming\\python\\python313\\site-packages (from spacy) (1.1.3)\n",
      "Requirement already satisfied: srsly<3.0.0,>=2.4.3 in c:\\users\\emily\\appdata\\roaming\\python\\python313\\site-packages (from spacy) (2.5.1)\n",
      "Requirement already satisfied: catalogue<2.1.0,>=2.0.6 in c:\\users\\emily\\appdata\\roaming\\python\\python313\\site-packages (from spacy) (2.0.10)\n",
      "Requirement already satisfied: weasel<0.5.0,>=0.1.0 in c:\\users\\emily\\appdata\\roaming\\python\\python313\\site-packages (from spacy) (0.4.1)\n",
      "Requirement already satisfied: typer<1.0.0,>=0.3.0 in c:\\users\\emily\\appdata\\roaming\\python\\python313\\site-packages (from spacy) (0.19.2)\n",
      "Requirement already satisfied: numpy>=1.19.0 in c:\\users\\emily\\appdata\\roaming\\python\\python313\\site-packages (from spacy) (2.3.2)\n",
      "Requirement already satisfied: pydantic!=1.8,!=1.8.1,<3.0.0,>=1.7.4 in c:\\users\\emily\\appdata\\roaming\\python\\python313\\site-packages (from spacy) (2.12.3)\n",
      "Requirement already satisfied: jinja2 in c:\\users\\emily\\appdata\\roaming\\python\\python313\\site-packages (from spacy) (3.1.6)\n",
      "Requirement already satisfied: setuptools in c:\\users\\emily\\appdata\\roaming\\python\\python313\\site-packages (from spacy) (80.9.0)\n",
      "Requirement already satisfied: langcodes<4.0.0,>=3.2.0 in c:\\users\\emily\\appdata\\roaming\\python\\python313\\site-packages (from spacy) (3.5.0)\n",
      "Requirement already satisfied: language-data>=1.2 in c:\\users\\emily\\appdata\\roaming\\python\\python313\\site-packages (from langcodes<4.0.0,>=3.2.0->spacy) (1.3.0)\n",
      "Requirement already satisfied: annotated-types>=0.6.0 in c:\\users\\emily\\appdata\\roaming\\python\\python313\\site-packages (from pydantic!=1.8,!=1.8.1,<3.0.0,>=1.7.4->spacy) (0.7.0)\n",
      "Requirement already satisfied: pydantic-core==2.41.4 in c:\\users\\emily\\appdata\\roaming\\python\\python313\\site-packages (from pydantic!=1.8,!=1.8.1,<3.0.0,>=1.7.4->spacy) (2.41.4)\n",
      "Requirement already satisfied: typing-extensions>=4.14.1 in c:\\users\\emily\\appdata\\roaming\\python\\python313\\site-packages (from pydantic!=1.8,!=1.8.1,<3.0.0,>=1.7.4->spacy) (4.15.0)\n",
      "Requirement already satisfied: typing-inspection>=0.4.2 in c:\\users\\emily\\appdata\\roaming\\python\\python313\\site-packages (from pydantic!=1.8,!=1.8.1,<3.0.0,>=1.7.4->spacy) (0.4.2)\n",
      "Requirement already satisfied: charset_normalizer<4,>=2 in c:\\users\\emily\\appdata\\roaming\\python\\python313\\site-packages (from requests->kagglehub) (3.4.3)\n",
      "Requirement already satisfied: idna<4,>=2.5 in c:\\users\\emily\\appdata\\roaming\\python\\python313\\site-packages (from requests->kagglehub) (3.10)\n",
      "Requirement already satisfied: urllib3<3,>=1.21.1 in c:\\users\\emily\\appdata\\roaming\\python\\python313\\site-packages (from requests->kagglehub) (2.5.0)\n",
      "Requirement already satisfied: certifi>=2017.4.17 in c:\\users\\emily\\appdata\\roaming\\python\\python313\\site-packages (from requests->kagglehub) (2025.8.3)\n",
      "Requirement already satisfied: blis<1.4.0,>=1.3.0 in c:\\users\\emily\\appdata\\roaming\\python\\python313\\site-packages (from thinc<8.4.0,>=8.3.4->spacy) (1.3.0)\n",
      "Requirement already satisfied: confection<1.0.0,>=0.0.1 in c:\\users\\emily\\appdata\\roaming\\python\\python313\\site-packages (from thinc<8.4.0,>=8.3.4->spacy) (0.1.5)\n",
      "Requirement already satisfied: colorama in c:\\users\\emily\\appdata\\roaming\\python\\python313\\site-packages (from tqdm->kagglehub) (0.4.6)\n",
      "Requirement already satisfied: click>=8.0.0 in c:\\users\\emily\\appdata\\roaming\\python\\python313\\site-packages (from typer<1.0.0,>=0.3.0->spacy) (8.3.0)\n",
      "Requirement already satisfied: shellingham>=1.3.0 in c:\\users\\emily\\appdata\\roaming\\python\\python313\\site-packages (from typer<1.0.0,>=0.3.0->spacy) (1.5.4)\n",
      "Requirement already satisfied: rich>=10.11.0 in c:\\users\\emily\\appdata\\roaming\\python\\python313\\site-packages (from typer<1.0.0,>=0.3.0->spacy) (14.2.0)\n",
      "Requirement already satisfied: cloudpathlib<1.0.0,>=0.7.0 in c:\\users\\emily\\appdata\\roaming\\python\\python313\\site-packages (from weasel<0.5.0,>=0.1.0->spacy) (0.23.0)\n",
      "Requirement already satisfied: smart-open<8.0.0,>=5.2.1 in c:\\users\\emily\\appdata\\roaming\\python\\python313\\site-packages (from weasel<0.5.0,>=0.1.0->spacy) (7.3.1)\n",
      "Requirement already satisfied: wrapt in c:\\users\\emily\\appdata\\roaming\\python\\python313\\site-packages (from smart-open<8.0.0,>=5.2.1->weasel<0.5.0,>=0.1.0->spacy) (1.17.3)\n",
      "Requirement already satisfied: python-dateutil>=2.8.2 in c:\\users\\emily\\appdata\\roaming\\python\\python313\\site-packages (from pandas) (2.9.0.post0)\n",
      "Requirement already satisfied: pytz>=2020.1 in c:\\users\\emily\\appdata\\roaming\\python\\python313\\site-packages (from pandas) (2025.2)\n",
      "Requirement already satisfied: tzdata>=2022.7 in c:\\users\\emily\\appdata\\roaming\\python\\python313\\site-packages (from pandas) (2025.2)\n",
      "Requirement already satisfied: marisa-trie>=1.1.0 in c:\\users\\emily\\appdata\\roaming\\python\\python313\\site-packages (from language-data>=1.2->langcodes<4.0.0,>=3.2.0->spacy) (1.3.1)\n",
      "Requirement already satisfied: six>=1.5 in c:\\users\\emily\\appdata\\roaming\\python\\python313\\site-packages (from python-dateutil>=2.8.2->pandas) (1.17.0)\n",
      "Requirement already satisfied: markdown-it-py>=2.2.0 in c:\\users\\emily\\appdata\\roaming\\python\\python313\\site-packages (from rich>=10.11.0->typer<1.0.0,>=0.3.0->spacy) (4.0.0)\n",
      "Requirement already satisfied: pygments<3.0.0,>=2.13.0 in c:\\users\\emily\\appdata\\roaming\\python\\python313\\site-packages (from rich>=10.11.0->typer<1.0.0,>=0.3.0->spacy) (2.19.2)\n",
      "Requirement already satisfied: mdurl~=0.1 in c:\\users\\emily\\appdata\\roaming\\python\\python313\\site-packages (from markdown-it-py>=2.2.0->rich>=10.11.0->typer<1.0.0,>=0.3.0->spacy) (0.1.2)\n",
      "Requirement already satisfied: MarkupSafe>=2.0 in c:\\users\\emily\\appdata\\roaming\\python\\python313\\site-packages (from jinja2->spacy) (3.0.2)\n",
      "Downloading kagglehub-0.3.13-py3-none-any.whl (68 kB)\n",
      "Installing collected packages: kagglehub\n",
      "Successfully installed kagglehub-0.3.13\n",
      "Defaulting to user installation because normal site-packages is not writeable\n",
      "Collecting en-core-web-sm==3.8.0\n",
      "  Downloading https://github.com/explosion/spacy-models/releases/download/en_core_web_sm-3.8.0/en_core_web_sm-3.8.0-py3-none-any.whl (12.8 MB)\n",
      "     ---------------------------------------- 0.0/12.8 MB ? eta -:--:--\n",
      "     ---------------------------------------- 0.0/12.8 MB ? eta -:--:--\n",
      "      --------------------------------------- 0.3/12.8 MB ? eta -:--:--\n",
      "      --------------------------------------- 0.3/12.8 MB ? eta -:--:--\n",
      "     - ------------------------------------- 0.5/12.8 MB 642.7 kB/s eta 0:00:20\n",
      "     -- ------------------------------------ 0.8/12.8 MB 804.7 kB/s eta 0:00:15\n",
      "     -- ------------------------------------ 0.8/12.8 MB 804.7 kB/s eta 0:00:15\n",
      "     --- ----------------------------------- 1.0/12.8 MB 779.6 kB/s eta 0:00:16\n",
      "     --- ----------------------------------- 1.3/12.8 MB 799.1 kB/s eta 0:00:15\n",
      "     ---- ---------------------------------- 1.6/12.8 MB 871.2 kB/s eta 0:00:13\n",
      "     ------ --------------------------------- 2.1/12.8 MB 1.0 MB/s eta 0:00:11\n",
      "     ------- -------------------------------- 2.4/12.8 MB 1.1 MB/s eta 0:00:10\n",
      "     --------- ------------------------------ 2.9/12.8 MB 1.2 MB/s eta 0:00:09\n",
      "     --------- ------------------------------ 3.1/12.8 MB 1.2 MB/s eta 0:00:08\n",
      "     ----------- ---------------------------- 3.7/12.8 MB 1.3 MB/s eta 0:00:08\n",
      "     ------------- -------------------------- 4.2/12.8 MB 1.4 MB/s eta 0:00:07\n",
      "     ------------- -------------------------- 4.5/12.8 MB 1.4 MB/s eta 0:00:06\n",
      "     --------------- ------------------------ 5.0/12.8 MB 1.4 MB/s eta 0:00:06\n",
      "     --------------- ------------------------ 5.0/12.8 MB 1.4 MB/s eta 0:00:06\n",
      "     ----------------- ---------------------- 5.5/12.8 MB 1.5 MB/s eta 0:00:05\n",
      "     ------------------ --------------------- 6.0/12.8 MB 1.5 MB/s eta 0:00:05\n",
      "     ------------------- -------------------- 6.3/12.8 MB 1.5 MB/s eta 0:00:05\n",
      "     ---------------------- ----------------- 7.1/12.8 MB 1.6 MB/s eta 0:00:04\n",
      "     ---------------------- ----------------- 7.1/12.8 MB 1.6 MB/s eta 0:00:04\n",
      "     ----------------------- ---------------- 7.6/12.8 MB 1.5 MB/s eta 0:00:04\n",
      "     ------------------------ --------------- 7.9/12.8 MB 1.5 MB/s eta 0:00:04\n",
      "     ------------------------- -------------- 8.1/12.8 MB 1.5 MB/s eta 0:00:04\n",
      "     --------------------------- ------------ 8.7/12.8 MB 1.5 MB/s eta 0:00:03\n",
      "     --------------------------- ------------ 8.7/12.8 MB 1.5 MB/s eta 0:00:03\n",
      "     ---------------------------- ----------- 9.2/12.8 MB 1.5 MB/s eta 0:00:03\n",
      "     ---------------------------- ----------- 9.2/12.8 MB 1.5 MB/s eta 0:00:03\n",
      "     ------------------------------ --------- 9.7/12.8 MB 1.5 MB/s eta 0:00:03\n",
      "     ------------------------------- -------- 10.2/12.8 MB 1.5 MB/s eta 0:00:02\n",
      "     -------------------------------- ------- 10.5/12.8 MB 1.5 MB/s eta 0:00:02\n",
      "     ---------------------------------- ----- 11.0/12.8 MB 1.5 MB/s eta 0:00:02\n",
      "     ----------------------------------- ---- 11.3/12.8 MB 1.5 MB/s eta 0:00:01\n",
      "     ------------------------------------ --- 11.5/12.8 MB 1.6 MB/s eta 0:00:01\n",
      "     ------------------------------------- -- 12.1/12.8 MB 1.6 MB/s eta 0:00:01\n",
      "     -------------------------------------- - 12.3/12.8 MB 1.6 MB/s eta 0:00:01\n",
      "     ---------------------------------------- 12.8/12.8 MB 1.6 MB/s  0:00:08\n",
      "\u001b[38;5;2m[+] Download and installation successful\u001b[0m\n",
      "You can now load the package via spacy.load('en_core_web_sm')\n"
     ]
    }
   ],
   "source": [
    "!pip install kagglehub spacy pandas\n",
    "!python -m spacy download en_core_web_sm\n"
   ]
  },
  {
   "cell_type": "code",
   "execution_count": 2,
   "id": "4814bffa-a570-49b3-9d81-178e20ae7ea0",
   "metadata": {},
   "outputs": [
    {
     "name": "stdout",
     "output_type": "stream",
     "text": [
      "Downloading from https://www.kaggle.com/api/v1/datasets/download/bittlingmayer/amazonreviews?dataset_version_number=7...\n"
     ]
    },
    {
     "name": "stderr",
     "output_type": "stream",
     "text": [
      "100%|███████████████████████████████████████████████████████████████████████████████| 493M/493M [05:58<00:00, 1.44MB/s]\n"
     ]
    },
    {
     "name": "stdout",
     "output_type": "stream",
     "text": [
      "Extracting files...\n",
      "📂 Dataset downloaded to: C:\\Users\\Emily\\.cache\\kagglehub\\datasets\\bittlingmayer\\amazonreviews\\versions\\7\n",
      "['test.ft.txt.bz2', 'train.ft.txt.bz2']\n"
     ]
    }
   ],
   "source": [
    "import kagglehub\n",
    "import os\n",
    "import pandas as pd\n",
    "\n",
    "# Download latest version of the dataset\n",
    "path = kagglehub.dataset_download(\"bittlingmayer/amazonreviews\")\n",
    "print(\"📂 Dataset downloaded to:\", path)\n",
    "\n",
    "# Check what files exist\n",
    "print(os.listdir(path))\n"
   ]
  },
  {
   "cell_type": "code",
   "execution_count": 3,
   "id": "0f6b893b-4229-47f6-8261-3e6e3b4c9087",
   "metadata": {},
   "outputs": [
    {
     "name": "stdout",
     "output_type": "stream",
     "text": [
      "⚠️ Could not load full dataset, using text samples instead: [Errno 2] No such file or directory: 'C:\\\\Users\\\\Emily\\\\.cache\\\\kagglehub\\\\datasets\\\\bittlingmayer\\\\amazonreviews\\\\versions\\\\7\\\\train.csv'\n"
     ]
    },
    {
     "data": {
      "text/html": [
       "<div>\n",
       "<style scoped>\n",
       "    .dataframe tbody tr th:only-of-type {\n",
       "        vertical-align: middle;\n",
       "    }\n",
       "\n",
       "    .dataframe tbody tr th {\n",
       "        vertical-align: top;\n",
       "    }\n",
       "\n",
       "    .dataframe thead th {\n",
       "        text-align: right;\n",
       "    }\n",
       "</style>\n",
       "<table border=\"1\" class=\"dataframe\">\n",
       "  <thead>\n",
       "    <tr style=\"text-align: right;\">\n",
       "      <th></th>\n",
       "      <th>review</th>\n",
       "    </tr>\n",
       "  </thead>\n",
       "  <tbody>\n",
       "    <tr>\n",
       "      <th>0</th>\n",
       "      <td>I love my new Samsung Galaxy S23 — the camera ...</td>\n",
       "    </tr>\n",
       "    <tr>\n",
       "      <th>1</th>\n",
       "      <td>The Apple MacBook Air is too expensive for the...</td>\n",
       "    </tr>\n",
       "    <tr>\n",
       "      <th>2</th>\n",
       "      <td>Logitech's wireless mouse is smooth and batter...</td>\n",
       "    </tr>\n",
       "    <tr>\n",
       "      <th>3</th>\n",
       "      <td>I’m disappointed with the Sony headphones; sou...</td>\n",
       "    </tr>\n",
       "    <tr>\n",
       "      <th>4</th>\n",
       "      <td>The Nike running shoes are super comfortable a...</td>\n",
       "    </tr>\n",
       "  </tbody>\n",
       "</table>\n",
       "</div>"
      ],
      "text/plain": [
       "                                              review\n",
       "0  I love my new Samsung Galaxy S23 — the camera ...\n",
       "1  The Apple MacBook Air is too expensive for the...\n",
       "2  Logitech's wireless mouse is smooth and batter...\n",
       "3  I’m disappointed with the Sony headphones; sou...\n",
       "4  The Nike running shoes are super comfortable a..."
      ]
     },
     "execution_count": 3,
     "metadata": {},
     "output_type": "execute_result"
    }
   ],
   "source": [
    "# Load a small portion of the dataset\n",
    "# Replace 'train.csv' or 'Amazon_Reviews.csv' with the actual file name printed from the previous cell\n",
    "file_name = \"train.csv\"  # Example placeholder — adjust based on actual file list\n",
    "file_path = os.path.join(path, file_name)\n",
    "\n",
    "try:\n",
    "    df = pd.read_csv(file_path, nrows=10000)\n",
    "    print(\"✅ Data loaded successfully!\")\n",
    "except Exception as e:\n",
    "    print(\"⚠️ Could not load full dataset, using text samples instead:\", e)\n",
    "    df = pd.DataFrame({\n",
    "        \"review\": [\n",
    "            \"I love my new Samsung Galaxy S23 — the camera quality is amazing!\",\n",
    "            \"The Apple MacBook Air is too expensive for the performance it gives.\",\n",
    "            \"Logitech's wireless mouse is smooth and battery lasts forever!\",\n",
    "            \"I’m disappointed with the Sony headphones; sound is muffled and weak.\",\n",
    "            \"The Nike running shoes are super comfortable and worth every penny.\"\n",
    "        ]\n",
    "    })\n",
    "\n",
    "# Preview sample\n",
    "df.head()\n"
   ]
  },
  {
   "cell_type": "code",
   "execution_count": 4,
   "id": "35746642-581d-4eba-ac1e-fc16eed0cc71",
   "metadata": {},
   "outputs": [],
   "source": [
    "import spacy\n",
    "\n",
    "# Load spaCy model\n",
    "nlp = spacy.load(\"en_core_web_sm\")\n",
    "\n",
    "# Define sentiment keywords\n",
    "positive_words = [\"love\", \"amazing\", \"great\", \"excellent\", \"super\", \"smooth\", \"worth\", \"comfortable\", \"fantastic\", \"perfect\"]\n",
    "negative_words = [\"bad\", \"disappointed\", \"poor\", \"expensive\", \"weak\", \"terrible\", \"hate\", \"worse\", \"awful\"]\n",
    "\n",
    "# Sentiment analysis function\n",
    "def analyze_review(text):\n",
    "    doc = nlp(text)\n",
    "    entities = [(ent.text, ent.label_) for ent in doc.ents]\n",
    "    \n",
    "    sentiment_score = 0\n",
    "    for token in doc:\n",
    "        if token.text.lower() in positive_words:\n",
    "            sentiment_score += 1\n",
    "        elif token.text.lower() in negative_words:\n",
    "            sentiment_score -= 1\n",
    "\n",
    "    if sentiment_score > 0:\n",
    "        sentiment = \"Positive 😊\"\n",
    "    elif sentiment_score < 0:\n",
    "        sentiment = \"Negative 😞\"\n",
    "    else:\n",
    "        sentiment = \"Neutral 😐\"\n",
    "    \n",
    "    return entities, sentiment\n"
   ]
  },
  {
   "cell_type": "code",
   "execution_count": 5,
   "id": "8a063e63-dbeb-49be-ae38-c9d8b075a72d",
   "metadata": {},
   "outputs": [
    {
     "name": "stdout",
     "output_type": "stream",
     "text": [
      "\n",
      "📝 Review 1: The Apple MacBook Air is too expensive for the performance it gives....\n",
      "🔍 Extracted Entities: [('The Apple MacBook Air', 'ORG')]\n",
      "💬 Sentiment: Negative 😞\n",
      "\n",
      "📝 Review 2: The Nike running shoes are super comfortable and worth every penny....\n",
      "🔍 Extracted Entities: [('Nike', 'ORG'), ('every penny', 'MONEY')]\n",
      "💬 Sentiment: Positive 😊\n",
      "\n",
      "📝 Review 3: Logitech's wireless mouse is smooth and battery lasts forever!...\n",
      "🔍 Extracted Entities: [('Logitech', 'ORG'), ('wireless mouse', 'PERSON')]\n",
      "💬 Sentiment: Positive 😊\n",
      "\n",
      "📝 Review 4: I love my new Samsung Galaxy S23 — the camera quality is amazing!...\n",
      "🔍 Extracted Entities: [('Samsung Galaxy S23', 'ORG')]\n",
      "💬 Sentiment: Positive 😊\n",
      "\n",
      "📝 Review 5: I’m disappointed with the Sony headphones; sound is muffled and weak....\n",
      "🔍 Extracted Entities: [('Sony', 'ORG')]\n",
      "💬 Sentiment: Negative 😞\n"
     ]
    }
   ],
   "source": [
    "sample_reviews = df[\"review\"].dropna().sample(5, random_state=42).tolist()\n",
    "\n",
    "for i, review in enumerate(sample_reviews, 1):\n",
    "    entities, sentiment = analyze_review(review)\n",
    "    print(f\"\\n📝 Review {i}: {review[:100]}...\")\n",
    "    print(f\"🔍 Extracted Entities: {entities}\")\n",
    "    print(f\"💬 Sentiment: {sentiment}\")\n"
   ]
  },
  {
   "cell_type": "code",
   "execution_count": 6,
   "id": "455c0146-3bd0-4c1e-8a99-3d66925ac57c",
   "metadata": {},
   "outputs": [
    {
     "name": "stdout",
     "output_type": "stream",
     "text": [
      "\n",
      "📈 Sentiment Summary:\n",
      "Positive    3\n",
      "Negative    2\n",
      "Name: count, dtype: int64\n"
     ]
    },
    {
     "data": {
      "text/plain": [
       "<Axes: title={'center': 'Sentiment Overview'}>"
      ]
     },
     "execution_count": 6,
     "metadata": {},
     "output_type": "execute_result"
    },
    {
     "data": {
      "image/png": "[encoded data removed]",
      "text/plain": [
       "<Figure size 640x480 with 1 Axes>"
      ]
     },
     "metadata": {},
     "output_type": "display_data"
    }
   ],
   "source": [
    "results = []\n",
    "\n",
    "for review in sample_reviews:\n",
    "    _, sentiment = analyze_review(review)\n",
    "    results.append(sentiment.split()[0])  # Extract label only (Positive/Negative/Neutral)\n",
    "\n",
    "sentiment_summary = pd.Series(results).value_counts()\n",
    "print(\"\\n📈 Sentiment Summary:\")\n",
    "print(sentiment_summary)\n",
    "\n",
    "# Simple bar plot\n",
    "sentiment_summary.plot(kind='bar', color=['green','red','gray'], title='Sentiment Overview')\n"
   ]
  },
  {
   "cell_type": "code",
   "execution_count": null,
   "id": "b183b144-d6c0-4dea-9a3a-ceaeeb121883",
   "metadata": {},
   "outputs": [],
   "source": []
  }
 ],
 "metadata": {
  "kernelspec": {
   "display_name": "Python 3 (ipykernel)",
   "language": "python",
   "name": "python3"
  },
  "language_info": {
   "codemirror_mode": {
    "name": "ipython",
    "version": 3
   },
   "file_extension": ".py",
   "mimetype": "text/x-python",
   "name": "python",
   "nbconvert_exporter": "python",
   "pygments_lexer": "ipython3",
   "version": "3.13.5"
  }
 },
 "nbformat": 4,
 "nbformat_minor": 5
}
